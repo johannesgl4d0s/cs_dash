{
 "cells": [
  {
   "cell_type": "code",
   "execution_count": 1,
   "metadata": {},
   "outputs": [],
   "source": [
    "from nilmtk import DataSet\n",
    "import csv\n",
    "from datetime import datetime\n",
    "from dateutil.relativedelta import relativedelta\n",
    "import os"
   ]
  },
  {
   "cell_type": "code",
   "execution_count": 2,
   "metadata": {},
   "outputs": [],
   "source": [
    "DATA_PATH = '..\\data\\REFIT.h5'\n",
    "refit = DataSet(DATA_PATH) #data"
   ]
  },
  {
   "cell_type": "code",
   "execution_count": 23,
   "metadata": {},
   "outputs": [],
   "source": [
    "refit.set_window(start='2014-04-01', end='2015-06-30')"
   ]
  },
  {
   "cell_type": "code",
   "execution_count": 5,
   "metadata": {},
   "outputs": [],
   "source": [
    "for i in (5,7):\n",
    "    data = refit.buildings[i].elec.mains().load(physical_quantity='power', ac_type=['apparent', 'active'], sample_period=60)\n",
    "\n",
    "    for row in data:\n",
    "        row.to_csv(os.path.join(os.getcwd(),'csv_short',f'refit_{i}_short.csv'),sep=';',)"
   ]
  }
 ],
 "metadata": {
  "kernelspec": {
   "display_name": "case-study",
   "language": "python",
   "name": "python3"
  },
  "language_info": {
   "codemirror_mode": {
    "name": "ipython",
    "version": 3
   },
   "file_extension": ".py",
   "mimetype": "text/x-python",
   "name": "python",
   "nbconvert_exporter": "python",
   "pygments_lexer": "ipython3",
   "version": "3.8.16"
  },
  "orig_nbformat": 4
 },
 "nbformat": 4,
 "nbformat_minor": 2
}
